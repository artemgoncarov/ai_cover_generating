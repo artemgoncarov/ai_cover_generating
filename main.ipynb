{
 "cells": [
  {
   "cell_type": "markdown",
   "metadata": {},
   "source": [
    "Генерация ИИ обложек для видео"
   ]
  },
  {
   "cell_type": "code",
   "execution_count": null,
   "metadata": {},
   "outputs": [],
   "source": [
    "!pip install torch\n",
    "!pip install torchaudio\n",
    "!pip install torch diffusers\n",
    "!pip install torchvision\n",
    "!pip install transformers\n",
    "!pip install accelerate\n",
    "!pip install translate\n",
    "!pip install rutube-downloader m3u8 alive_progress\n",
    "!pip install opencv-python\n",
    "!pip install beautifulsoup4\n",
    "!pip install detectron2\n",
    "!pip install flask-ngrok\n",
    "!git clone https://github.com/artemgoncarov/sochi-web\n",
    "!pip install \"git+https://github.com/ai-forever/Kandinsky-2.git\"\n",
    "!pip install ftfy regex tqdm\n",
    "!pip install git+https://github.com/openai/CLIP.git\n",
    "!pip install transformers"
   ]
  },
  {
   "cell_type": "code",
   "execution_count": null,
   "metadata": {},
   "outputs": [],
   "source": [
    "!python -m pip install pyyaml\n",
    "import sys, os, distutils.core\n",
    "!git clone \"https://github.com/facebookresearch/detectron2\"\n",
    "dist = distutils.core.run_setup(\"./detectron2/setup.py\")\n",
    "!python -m pip install {' '.join([f\"'{x}'\" for x in dist.install_requires])}\n",
    "sys.path.insert(0, os.path.abspath('./detectron2'))\n",
    "!git clone https://github.com/AlexeyAB/darknet\n",
    "%cd darknet\n",
    "!sed -i \"s/OPENCV=0/OPENCV=1/\" Makefile\n",
    "!sed -i \"s/GPU=0/GPU=1/\" Makefile\n",
    "!sed -i \"s/CUDNN=0/CUDNN=1/\" Makefile\n",
    "!sed -i \"s/CUDNN_HALF=0/CUDNN_HALF=1/\" Makefile\n",
    "!make"
   ]
  },
  {
   "cell_type": "code",
   "execution_count": null,
   "metadata": {},
   "outputs": [],
   "source": [
    "import cv2\n",
    "from typing import Tuple\n",
    "import numpy as np\n",
    "import os.path\n",
    "import pandas as pd\n",
    "import torch\n",
    "from torch import autocast\n",
    "from translate import Translator\n",
    "from flask import Flask, render_template, request, redirect, jsonify\n",
    "import requests\n",
    "from rutube import Rutube\n",
    "from bs4 import BeautifulSoup\n",
    "import detectron2\n",
    "from detectron2.utils.logger import setup_logger\n",
    "setup_logger()\n",
    "import os, json, random\n",
    "from google.colab.patches import cv2_imshow\n",
    "from detectron2 import model_zoo\n",
    "from detectron2.engine import DefaultPredictor\n",
    "from detectron2.config import get_cfg\n",
    "from detectron2.utils.visualizer import Visualizer\n",
    "from detectron2.data import MetadataCatalog, DatasetCatalog\n",
    "from kandinsky2 import get_kandinsky2\n",
    "from time import sleep\n",
    "from PIL import Image\n",
    "from PIL import ImageFont\n",
    "from PIL import ImageDraw\n",
    "from google.colab import drive\n",
    "drive.mount('/content/drive/')\n",
    "!nvcc --version\n",
    "TORCH_VERSION = \".\".join(torch.__version__.split(\".\")[:2])\n",
    "CUDA_VERSION = torch.__version__.split(\"+\")[-1]"
   ]
  },
  {
   "cell_type": "markdown",
   "metadata": {},
   "source": [
    "Список всех наших объектов для распознавания на видео"
   ]
  },
  {
   "cell_type": "code",
   "execution_count": null,
   "metadata": {},
   "outputs": [],
   "source": [
    "nums = ['person\\n', 'bicycle\\n', 'car\\n', 'motorbike\\n', 'aeroplane\\n', 'bus\\n', 'train\\n', 'truck\\n', 'boat\\n', 'traffic light\\n', 'fire hydrant\\n', 'stop sign\\n', 'parking meter\\n', 'bench\\n', 'bird\\n', 'cat\\n', 'dog\\n', 'horse\\n', 'sheep\\n', 'cow\\n', 'elephant\\n', 'bear\\n', 'zebra\\n', 'giraffe\\n', 'backpack\\n', 'umbrella\\n', 'handbag\\n', 'tie\\n', 'suitcase\\n', 'frisbee\\n', 'skis\\n', 'snowboard\\n', 'sports ball\\n', 'kite\\n', 'baseball bat\\n', 'baseball glove\\n', 'skateboard\\n', 'surfboard\\n', 'tennis racket\\n', 'bottle\\n', 'wine glass\\n', 'cup\\n', 'fork\\n', 'knife\\n', 'spoon\\n', 'bowl\\n', 'banana\\n', 'apple\\n', 'sandwich\\n', 'orange\\n', 'broccoli\\n', 'carrot\\n', 'hot dog\\n', 'pizza\\n', 'donut\\n', 'cake\\n', 'chair\\n', 'sofa\\n', 'pottedplant\\n', 'bed\\n', 'diningtable\\n', 'toilet\\n', 'tvmonitor\\n', 'laptop\\n', 'mouse\\n', 'remote\\n', 'keyboard\\n', 'cell phone\\n', 'microwave\\n', 'oven\\n', 'toaster\\n', 'sink\\n', 'refrigerator\\n', 'book\\n', 'clock\\n', 'vase\\n', 'scissors\\n', 'teddy bear\\n', 'hair drier\\n', 'toothbrush\\n']"
   ]
  },
  {
   "cell_type": "markdown",
   "metadata": {},
   "source": [
    "Модель Кандинского"
   ]
  },
  {
   "cell_type": "code",
   "execution_count": null,
   "metadata": {},
   "outputs": [],
   "source": [
    "model = get_kandinsky2('cuda', task_type='text2img', model_version='2.2')"
   ]
  },
  {
   "cell_type": "markdown",
   "metadata": {},
   "source": [
    "Функция для разбиения видео на кадры"
   ]
  },
  {
   "cell_type": "code",
   "execution_count": null,
   "metadata": {},
   "outputs": [],
   "source": [
    "import os\n",
    "from random import randint\n",
    "import shutil\n",
    "\n",
    "\n",
    "def split_video(video_path):\n",
    "    file_name = video_path.rstrip('.mp4')\n",
    "    os.mkdir('/content/Frames')\n",
    "    video = cv2.VideoCapture(f'/content/{video_path}')\n",
    "    frame_count = 0\n",
    "    total_frames = int(video.get(cv2.CAP_PROP_FRAME_COUNT))\n",
    "    frame_interval = total_frames // 60\n",
    "    count = 0\n",
    "    while video.isOpened():\n",
    "        ret, frame = video.read()\n",
    "        if not ret:\n",
    "            break\n",
    "        if frame_count % 60 == 0:\n",
    "            cv2.waitKey(1)\n",
    "            cv2.imwrite(fr\"/content/Frames/{count}.jpg\", frame)\n",
    "            count += 1\n",
    "        frame_count += 1\n",
    "    video.release()\n",
    "    cv2.destroyAllWindows()\n",
    "    return frame_interval\n",
    "    # shutil.rmtree('c:\\sochi\\Frames')\n"
   ]
  },
  {
   "cell_type": "markdown",
   "metadata": {},
   "source": [
    "Объект класса Translator для перевода промта с русского языка на английский"
   ]
  },
  {
   "cell_type": "code",
   "execution_count": null,
   "metadata": {},
   "outputs": [],
   "source": [
    "translator = Translator(from_lang='ru', to_lang='en')"
   ]
  },
  {
   "cell_type": "markdown",
   "metadata": {},
   "source": [
    "Получаем данные от пользователя"
   ]
  },
  {
   "cell_type": "code",
   "execution_count": null,
   "metadata": {},
   "outputs": [],
   "source": [
    "file_name = input('Введите путь до файла: ')\n",
    "# description = input('Введите описание видео: ')\n",
    "wish = input('Введите свои пожелания: ')\n",
    "text = input('Введите желаемый текст для картинки: ')\n",
    "# models = {\n",
    "#           'anime': 'hakurei/waifu-diffusion',\n",
    "#           '3d': 'runwayml/stable-diffusion-v1-5',\n",
    "#           'realistic': 'CompVis/stable-diffusion-v1-4'\n",
    "# }\n",
    "# model_id = models[input('Введите стиль картинки: realistic, anime, 3d\\n')]\n",
    "prompt = wish\n",
    "prompt = translator.translate(prompt) + ' '"
   ]
  },
  {
   "cell_type": "markdown",
   "metadata": {},
   "source": [
    "Сплитим видео на кадры"
   ]
  },
  {
   "cell_type": "code",
   "execution_count": null,
   "metadata": {},
   "outputs": [],
   "source": [
    "frame_interval = split_video(file_name)"
   ]
  },
  {
   "cell_type": "markdown",
   "metadata": {},
   "source": [
    "Функция для удаления \\n с названия объекта"
   ]
  },
  {
   "cell_type": "code",
   "execution_count": null,
   "metadata": {},
   "outputs": [],
   "source": [
    "def delete_n(arr) -> list:\n",
    "  for i in range(len(arr)):\n",
    "    arr[i] = arr[i][:-1]\n",
    "  return arr"
   ]
  },
  {
   "cell_type": "markdown",
   "metadata": {},
   "source": [
    "Получаем объекты на видео и заносим в словарь"
   ]
  },
  {
   "cell_type": "code",
   "execution_count": null,
   "metadata": {},
   "outputs": [],
   "source": [
    "counts_dict = {}\n",
    "\n",
    "path = '/content/Frames/'\n",
    "for j in range(frame_interval):\n",
    "    im = cv2.imread(f'{path}{j}.jpg')\n",
    "    cfg = get_cfg()\n",
    "    # add project-specific config (e.g., TensorMask) here if you're not running a model in detectron2's core library\n",
    "    cfg.merge_from_file(model_zoo.get_config_file(\"COCO-InstanceSegmentation/mask_rcnn_R_50_FPN_3x.yaml\"))\n",
    "    cfg.MODEL.ROI_HEADS.SCORE_THRESH_TEST = 0.7  # set threshold for this model\n",
    "    # Find a model from detectron2's model zoo. You can use the https://dl.fbaipublicfiles... url as well\n",
    "    cfg.MODEL.WEIGHTS = model_zoo.get_checkpoint_url(\"COCO-InstanceSegmentation/mask_rcnn_R_50_FPN_3x.yaml\")\n",
    "    predictor = DefaultPredictor(cfg)\n",
    "    outputs = predictor(im)\n",
    "    v = Visualizer(im[:, :, ::-1], MetadataCatalog.get(cfg.DATASETS.TRAIN[0]), scale=1.2)\n",
    "    out = v.draw_instance_predictions(outputs[\"instances\"].to(\"cpu\"))\n",
    "    for i in list(outputs[\"instances\"].pred_classes):\n",
    "        if f'{nums[i]}' not in counts_dict.keys():\n",
    "          counts_dict[f'{nums[i]}'] = 0\n",
    "        counts_dict[f'{nums[i]}'] += 1\n",
    "    # cv2_imshow(out.get_image()[:, :, ::-1])\n",
    "    print(f'Кадр номер: {j}')\n",
    "shutil.rmtree('/content/Frames')\n",
    "sorted_dict = [i[0] for i in sorted(counts_dict.items()) if i[1] > 5][:5]\n",
    "prompt += ' '.join(sorted_dict)"
   ]
  },
  {
   "cell_type": "markdown",
   "metadata": {},
   "source": [
    "Функция для масштабирования текста на фото"
   ]
  },
  {
   "cell_type": "code",
   "execution_count": null,
   "metadata": {},
   "outputs": [],
   "source": [
    "def choose_font_size(image_width, image_height):\n",
    "  font_size = min(image_width, image_height) // 10\n",
    "\n",
    "  return font_size"
   ]
  },
  {
   "cell_type": "code",
   "execution_count": null,
   "metadata": {},
   "outputs": [],
   "source": [
    "prompt"
   ]
  },
  {
   "cell_type": "markdown",
   "metadata": {},
   "source": [
    "Генерируем фотографию и сохраняем ее"
   ]
  },
  {
   "cell_type": "code",
   "execution_count": null,
   "metadata": {},
   "outputs": [],
   "source": [
    "images = model.generate_text2img(\n",
    "    prompt,\n",
    "    h=1080,\n",
    "    w=1920,\n",
    ")\n",
    "image = images[0]\n",
    "image.save(f\"/content/image.png\")"
   ]
  },
  {
   "cell_type": "code",
   "execution_count": null,
   "metadata": {},
   "outputs": [],
   "source": [
    "cv2_imshow('/content/image.png')"
   ]
  },
  {
   "cell_type": "markdown",
   "metadata": {},
   "source": [
    "Наложим текст на фотографию и взглянем на результат"
   ]
  },
  {
   "cell_type": "code",
   "execution_count": null,
   "metadata": {},
   "outputs": [],
   "source": [
    "img = Image.open('/content/image.png')\n",
    "draw = ImageDraw.Draw(img)\n",
    "x, y = img.size\n",
    "font = ImageFont.truetype('/content/News.ttf', choose_font_size(x, y))\n",
    "width = font.getlength(text)\n",
    "pos = (x - width) / 2\n",
    "draw.text((pos, y * 0.75), translator.translate(text), (255, 255, 255), font=font)\n",
    "img.save(f'/content/sample-out.jpg')\n",
    "cv2_imshow(cv2.imread(f'/content/sample-out.jpg'))"
   ]
  }
 ],
 "metadata": {
  "kernelspec": {
   "display_name": "Python 3",
   "language": "python",
   "name": "python3"
  },
  "language_info": {
   "codemirror_mode": {
    "name": "ipython",
    "version": 3
   },
   "file_extension": ".py",
   "mimetype": "text/x-python",
   "name": "python",
   "nbconvert_exporter": "python",
   "pygments_lexer": "ipython3",
   "version": "3.7.13"
  }
 },
 "nbformat": 4,
 "nbformat_minor": 2
}
